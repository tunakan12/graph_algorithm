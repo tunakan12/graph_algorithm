{
  "cells": [
    {
      "cell_type": "markdown",
      "metadata": {
        "id": "view-in-github",
        "colab_type": "text"
      },
      "source": [
        "<a href=\"https://colab.research.google.com/github/tunakan12/graph_algorithm/blob/main/cDA25_06_%E6%BC%94%E7%BF%92%E8%AA%B2%E9%A1%8C_%E3%82%AF%E3%82%99%E3%83%A9%E3%83%95_%E5%AE%8C%E6%88%90%E7%89%88_%E3%81%AE%E3%82%B3%E3%83%94%E3%83%BC.ipynb\" target=\"_parent\"><img src=\"https://colab.research.google.com/assets/colab-badge.svg\" alt=\"Open In Colab\"/></a>"
      ]
    },
    {
      "cell_type": "markdown",
      "source": [
        "# コンパイル時のエラーメッセージの日本語化"
      ],
      "metadata": {
        "id": "zv73VDZ0S4FN"
      }
    },
    {
      "cell_type": "markdown",
      "source": [
        "下のコードセルを実行しておく\n"
      ],
      "metadata": {
        "id": "bVMzXL68TtI5"
      }
    },
    {
      "cell_type": "code",
      "source": [
        "!sudo apt-get install gettext >/dev/null 2>&1\n",
        "!wget -c https://github.com/gcc-mirror/gcc/raw/releases/gcc-11/gcc/po/ja.po >/dev/null 2>&1\n",
        "!msgfmt -o gcc-11.mo ja.po\n",
        "!cp gcc-11.mo /usr/share/locale/en/LC_MESSAGES/\n",
        "!rm -f gcc-11.mo ja.po"
      ],
      "metadata": {
        "id": "PfnglC3LTDBS"
      },
      "execution_count": 68,
      "outputs": []
    },
    {
      "cell_type": "markdown",
      "metadata": {
        "id": "SQOjAG3uroXP"
      },
      "source": [
        "# コード"
      ]
    },
    {
      "cell_type": "markdown",
      "metadata": {
        "id": "I3H1J_MWYs5l"
      },
      "source": [
        "## 構造体宣言\n",
        "### グラフ：Node_Gr型\n",
        "一つの構造体変数は一つのノードに対応し、下のデータを保持\n",
        "- 整数型のノードID\n",
        "- 隣接ノードへのポインタの配列\n",
        "  - 配列サイズが maxdeg\n",
        "- どのノードを経由してこのノードに到達したか。\n",
        "\n",
        "### スタックとキュー\n",
        "次に探索するノードを記録するために利用する。そのため、Node_Gr型のアドレスを記録する。\n"
      ]
    },
    {
      "cell_type": "code",
      "execution_count": 69,
      "metadata": {
        "id": "N0EpOiJROZwk",
        "colab": {
          "base_uri": "https://localhost:8080/"
        },
        "outputId": "36ed02ea-de25-479e-b4a7-9dc9d97623d5"
      },
      "outputs": [
        {
          "output_type": "stream",
          "name": "stdout",
          "text": [
            "Overwriting dfsbfs.h\n"
          ]
        }
      ],
      "source": [
        "%%file dfsbfs.h\n",
        "//グラフの最大次数\n",
        "#define maxdeg 100\n",
        "//Stk, Queのサイズ\n",
        "#define mmaxsize 20000\n",
        "// graphのノードを表す構造体\n",
        "typedef struct node_gr {\n",
        "    int id;                // id\n",
        "    int adj_size;          // 隣接ノード数\n",
        "    struct node_gr **adj;  // 隣接ノードポインタの配列（最大maxdeg）\n",
        "    struct node_gr *parent;// 経路の親ノードポインタ\n",
        "    int *adj_weights;      // 隣接ノードごとの枝の重み配列（最大maxdeg）\n",
        "    int dist;              // Dijkstra用：始点からの距離\n",
        "    int flag;              // Dijkstra用：最短距離確定\n",
        "    int checked;           // ノードがアクセスされバッファに格納\n",
        "} Node_Gr;\n",
        "\n",
        "//------\n",
        "typedef struct stk{\n",
        "    int maxsize;\n",
        "    int sp;\n",
        "    Node_Gr* stack[mmaxsize];\n",
        "} Stk;\n",
        "\n",
        "typedef struct que{\n",
        "    int maxsize;\n",
        "    int size;\n",
        "    int wp;\n",
        "    int rp;\n",
        "    Node_Gr* queue[mmaxsize];\n",
        "} Que;\n",
        "\n",
        "void push(Stk *pstk1, Node_Gr *dat);\n",
        "Node_Gr* pop(Stk *pstk1);\n",
        "void enq(Que *pque1, Node_Gr* dat);\n",
        "Node_Gr* deq(Que *pque1);\n",
        "Node_Gr* min_dist_deq(Que *pque1);\n",
        "Stk *create_stack();\n",
        "Que *create_queue();\n",
        "void append(Node_Gr *src, Node_Gr *dst, int weight);\n",
        "Node_Gr **make_undirected_graph(int node_size, int num_edge, double p_random);\n",
        "Node_Gr **make_arbitrary_digraph(int *node_size_ad);\n",
        "void delete_graph(Node_Gr** nodes, int node_size);\n",
        "void print_adjacency_info(Node_Gr **nodes, int node_size);\n",
        "void print_graph_info(Node_Gr **nodes, int node_size);\n",
        "void print_weighted_graph_info(Node_Gr **nodes, int node_size, int no);\n",
        "void print_digraph_info(Node_Gr **nodes, int node_size);\n",
        "void print_path(Node_Gr *node);\n",
        "void dfs_search(Node_Gr *start, int target, int node_size);\n",
        "Node_Gr * dfs_search_rec(Node_Gr *start, int target);\n",
        "void dfs_search2(Node_Gr *start, int target, int node_size);\n",
        "void bfs_search(Node_Gr *start, int target, int node_size);\n",
        "void dijkstra(Node_Gr *start, Node_Gr **nodes, int node_size);\n",
        "void printpush(Stk *p_stk, Node_Gr *dat);\n",
        "void printpop(Stk *p_stk, Node_Gr *dat);\n",
        "void printenq(Que *p_que, Node_Gr *dat);\n",
        "void printdeq(Que *p_que, Node_Gr *dat);\n",
        "void print_mindist_deq(Que *p_que, Node_Gr *dat);\n",
        "void topological_sort(Node_Gr **nodes, int node_size);"
      ]
    },
    {
      "cell_type": "markdown",
      "metadata": {
        "id": "Oulukhg6bn49"
      },
      "source": [
        "## スタックとキューの操作の実装\n",
        "push,pop,enq,deq共にこれまでとほとんど変化してない。\n",
        "\n",
        "扱うデータがNode_Gr型のアドレスになったため、その点のみ変更。\n"
      ]
    },
    {
      "cell_type": "code",
      "execution_count": 70,
      "metadata": {
        "id": "FCuxw-QySy5Y",
        "colab": {
          "base_uri": "https://localhost:8080/"
        },
        "outputId": "2635e286-6de7-478d-962b-50c4a16e78bf"
      },
      "outputs": [
        {
          "output_type": "stream",
          "name": "stdout",
          "text": [
            "Overwriting stkque.c\n"
          ]
        }
      ],
      "source": [
        "%%file stkque.c\n",
        "#include<stdio.h>\n",
        "#include<stdlib.h>\n",
        "#include<limits.h>\n",
        "#include \"dfsbfs.h\"\n",
        "void push(Stk *pstk1, Node_Gr *dat){\n",
        "    if(pstk1->sp==pstk1->maxsize){\n",
        "        printf(\"*** stack overflow ***\\n\");\n",
        "        exit(1);\n",
        "    }\n",
        "    pstk1->stack[pstk1->sp]=dat;\n",
        "    pstk1->sp++;\n",
        "}\n",
        "\n",
        "Node_Gr* pop(Stk *pstk1){\n",
        "    Node_Gr* dat;\n",
        "    if(pstk1->sp==0){\n",
        "        printf(\"*** stack empty ***\\n\");\n",
        "        exit(1);\n",
        "    }\n",
        "    (pstk1->sp)--;\n",
        "    dat=pstk1->stack[pstk1->sp];\n",
        "    return(dat);\n",
        "}\n",
        "\n",
        "void enq(Que *pque1, Node_Gr* dat){\n",
        "    if(pque1->size==pque1->maxsize){\n",
        "        printf(\"*** warning:queue overflow ***\\n\");\n",
        "        printf(\"%d %d\\n\", pque1->size, pque1->maxsize);\n",
        "        exit(1);\n",
        "    }\n",
        "    pque1->queue[pque1->wp]=dat;\n",
        "    pque1->wp=((pque1->wp)+1)%(pque1->maxsize);\n",
        "    pque1->size++;\n",
        "}\n",
        "\n",
        "Node_Gr* deq(Que *pque1){\n",
        "    Node_Gr* dat;\n",
        "    if(pque1->size==0){\n",
        "        printf(\"*** warning:queue empty ***\\n\");\n",
        "        printf(\"%d %d\\n\", pque1->size, pque1->maxsize);\n",
        "        return(NULL);\n",
        "    }\n",
        "    dat=pque1->queue[pque1->rp];\n",
        "    pque1->rp=((pque1->rp)+1)%(pque1->maxsize);\n",
        "    pque1->size--;\n",
        "    return(dat);\n",
        "}\n",
        "\n",
        "// added for dijkstra\n",
        "Node_Gr* min_dist_deq(Que *pque1){\n",
        "    Node_Gr* dat;\n",
        "    int min,d,min_ind,i;\n",
        "    if(pque1->size==0){\n",
        "        printf(\"*** warning:queue empty ***\\n\");\n",
        "        printf(\"%d %d\\n\", pque1->size, pque1->maxsize);\n",
        "        return(NULL);\n",
        "    }\n",
        "\n",
        "    min=INT_MAX;\n",
        "    for(i=0;i<pque1->size;i++){\n",
        "        d=pque1->queue[(pque1->rp+i) %(pque1->maxsize)]->dist;\n",
        "        if(min>d){\n",
        "            min_ind=i;\n",
        "            min=d;\n",
        "        }\n",
        "    }\n",
        "\n",
        "    dat=pque1->queue[(pque1->rp+min_ind) %(pque1->maxsize)];\n",
        "\n",
        "    // shift\n",
        "    for(i=min_ind+1;i < pque1->size;i++){\n",
        "        pque1->queue[(pque1->rp+i-1) %(pque1->maxsize)]=pque1->queue[(pque1->rp+i) %(pque1->maxsize)];\n",
        "    }\n",
        "    pque1->wp=((pque1->wp)-1)%(pque1->maxsize);\n",
        "    pque1->size--;\n",
        "    return(dat);\n",
        "}\n",
        "\n",
        "Stk *create_stack(){\n",
        "    Stk *pstk1;\n",
        "    pstk1=(Stk*)malloc(sizeof(Stk));\n",
        "    if(pstk1==NULL){exit(1);}\n",
        "    pstk1->maxsize=mmaxsize;\n",
        "    pstk1->sp=0;\n",
        "    return pstk1;\n",
        "}\n",
        "\n",
        "Que *create_queue(){\n",
        "    Que *pque1;\n",
        "    pque1=(Que*)malloc(sizeof(Que));\n",
        "    if(pque1==NULL){exit(1);}\n",
        "    pque1->maxsize=mmaxsize;\n",
        "    pque1->wp=0;\n",
        "    pque1->rp=0;\n",
        "    pque1->size=0;\n",
        "    return pque1;\n",
        "}\n",
        "\n",
        "void printpush(Stk *p_stk, Node_Gr *dat){ //push処理の出力\n",
        "    printf(\"                                   push:[ \");\n",
        "    for(int i=0; i<p_stk->sp; i++){printf(\"%2d \", p_stk->stack[i]->id);}\n",
        "    printf(\"]\\n\");\n",
        "    printf(\"                                          \");\n",
        "    for(int i=0; i<p_stk->sp; i++){printf(\"   \");}\n",
        "    printf(\"sp\\n\");\n",
        "    //printf(\"      sp=%d, dat=%d\\n\", p_stk->sp, dat->id);\n",
        "}\n",
        "\n",
        "void printpop(Stk *p_stk, Node_Gr *dat){\n",
        "    printf(\"                                   pop: [ \");\n",
        "    for(int i=0; i<p_stk->sp; i++){printf(\"%2d \", p_stk->stack[i]->id);}\n",
        "    printf(\"] --> %2d\\n\", dat->id);\n",
        "    printf(\"                                          \");\n",
        "    for(int i=0; i<p_stk->sp; i++){printf(\"   \");}\n",
        "    printf(\"sp\\n\");\n",
        "    //printf(\"%d <- sp=%d\\n\", dat, p_stk->sp);\n",
        "}\n",
        "\n",
        "void printenq(Que *p_que, Node_Gr *dat){\n",
        "    printf(\"enqueue:  [ \");\n",
        "    if(p_que->rp < p_que->wp){\n",
        "        for(int i=p_que->rp; i<p_que->wp; i++){\n",
        "            printf(\"%2d \", p_que->queue[i]->id);}\n",
        "    }\n",
        "    else{\n",
        "        for(int i=p_que->rp; i<p_que->maxsize; i++){\n",
        "            printf(\"%2d \", p_que->queue[i]->id);}\n",
        "        for(int i=0; i<p_que->wp; i++){\n",
        "            printf(\"%2d \", p_que->queue[i]->id);}\n",
        "    }\n",
        "    printf(\"] \\n\");\n",
        "}\n",
        "\n",
        "void printdeq(Que *p_que, Node_Gr *dat){\n",
        "    printf(\"dequeue:  [ \");\n",
        "    if(p_que->rp < p_que->wp || p_que->size==0){\n",
        "        for(int i=p_que->rp; i<p_que->wp; i++){\n",
        "            printf(\"%2d \", p_que->queue[i]->id);}\n",
        "    }\n",
        "    else{\n",
        "        for(int i=p_que->rp; i<p_que->maxsize; i++){\n",
        "            printf(\"%2d \", p_que->queue[i]->id);}\n",
        "        for(int i=0; i<p_que->wp; i++){\n",
        "            printf(\"%2d \", p_que->queue[i]->id);}\n",
        "    }\n",
        "    printf(\"] --> %2d \\n\", dat->id);\n",
        "}\n",
        "\n",
        "void print_mindist_deq(Que *p_que, Node_Gr *dat){\n",
        "    printf(\"min_deq:  [ \");\n",
        "    if(p_que->rp < p_que->wp || p_que->size==0){\n",
        "        for(int i=p_que->rp; i<p_que->wp; i++){\n",
        "            printf(\"%2d \", p_que->queue[i]->id);}\n",
        "    }\n",
        "    else{\n",
        "        for(int i=p_que->rp; i<p_que->maxsize; i++){\n",
        "            printf(\"%2d \", p_que->queue[i]->id);}\n",
        "        for(int i=0; i<p_que->wp; i++){\n",
        "            printf(\"%2d \", p_que->queue[i]->id);}\n",
        "    }\n",
        "    printf(\"] --> %2d \\n\", dat->id);\n",
        "}\n"
      ]
    },
    {
      "cell_type": "markdown",
      "metadata": {
        "id": "l9hKeppNcPWw"
      },
      "source": [
        "## グラフ生成処理\n"
      ]
    },
    {
      "cell_type": "markdown",
      "metadata": {
        "id": "TPCUDe8JmM0G"
      },
      "source": [
        "### グラフ関連処理\n",
        "make_undirected_graph関数で、無向グラフを作成し、print_graphiz_info関数でグラフを描画するpythonコードを生成\n",
        "\n"
      ]
    },
    {
      "cell_type": "code",
      "execution_count": 71,
      "metadata": {
        "id": "zkQL7Bs-U3Pj",
        "colab": {
          "base_uri": "https://localhost:8080/"
        },
        "outputId": "25427bf1-2c2f-41ce-d92e-dafa50ee0322"
      },
      "outputs": [
        {
          "output_type": "stream",
          "name": "stdout",
          "text": [
            "Overwriting graphsub.c\n"
          ]
        }
      ],
      "source": [
        "%%file graphsub.c\n",
        "#include<stdlib.h>\n",
        "#include<stdio.h>\n",
        "#include \"dfsbfs.h\"\n",
        "\n",
        "// srcノードからdstノードへ枝をつなげる\n",
        "// [入力] src,dst はノードのアドレス\n",
        "// [出力] なし\n",
        "void append(Node_Gr *src, Node_Gr *dst, int weight){\n",
        "  int i;\n",
        "  if(src==NULL || dst==NULL) exit(1);\n",
        "\n",
        "  //自分自身とは接続しない\n",
        "  if(src == dst) return;\n",
        "\n",
        "  for(i=0; i<src->adj_size; i++)\n",
        "    if(src->adj[i]==dst) break;\n",
        "  if(i == src->adj_size){\n",
        "      if(src->adj_size >= maxdeg){printf(\"maxdeg error\\n\"); exit(1);}\n",
        "      src->adj[ src->adj_size ] = dst;\n",
        "      src->adj_weights[ src->adj_size ] = weight;\n",
        "      src->adj_size += 1;\n",
        "  }\n",
        "}\n",
        "\n",
        "// ノードの構造体のメモリを確保し、idを設定\n",
        "// [入力] id: 整数型\n",
        "// [出力] new_node: 追加ノードアドレス\n",
        "Node_Gr *malloc_node_gr(int id){\n",
        "    int i;\n",
        "    Node_Gr *new_node;\n",
        "    Node_Gr **new_adj;\n",
        "    int *new_adj_weights;\n",
        "    new_node = (Node_Gr*)malloc(sizeof(Node_Gr));\n",
        "    if(new_node == NULL) {printf(\"malloc error\\n\"); exit(1);}\n",
        "\n",
        "    new_adj    = (Node_Gr**)malloc(maxdeg * sizeof(Node_Gr*));\n",
        "    new_adj_weights = (int*)malloc(maxdeg * sizeof(int));\n",
        "    if(new_adj == NULL || new_adj_weights == NULL) {printf(\"malloc error\\n\"); exit(1);}\n",
        "    for(i=0;i<maxdeg;i++){\n",
        "        new_adj[i] = NULL;\n",
        "        new_adj_weights[i] = 0;\n",
        "    }\n",
        "\n",
        "    new_node->adj         = new_adj;        //隣接ノード配列\n",
        "    new_node->adj_weights = new_adj_weights;//隣接ノード重み配列\n",
        "    new_node->id = id;\n",
        "    new_node->adj_size = 0;                 //初期隣接登録数 ０\n",
        "    new_node->parent = NULL;\n",
        "    new_node->dist=0;\n",
        "    new_node->flag=0;\n",
        "\n",
        "    return new_node;\n",
        "}\n",
        "\n",
        "// 無向グラフを作成。num_edgeの半分の枝を自分より上のノードに張る。\n",
        "// [入力] node_size: 整数型 ノードの個数、num_edge: 整数型 各点の次数、\n",
        "//       p_random: ランダムで枝を張る確率\n",
        "// [出力] node_size個のノードアドレスを格納した配列\n",
        "Node_Gr **make_undirected_graph(int node_size, int num_edge, double p_random){\n",
        "    Node_Gr **nodes,**nodes_adr,*src, *dst;\n",
        "    int i,j;\n",
        "    int n_edge,w;\n",
        "\n",
        "    nodes = (Node_Gr**)malloc(node_size*sizeof(Node_Gr*));\n",
        "    if(nodes == NULL) {printf(\"malloc error\\n\"); exit(1);}\n",
        "\n",
        "    for(i=0;i<node_size;i++) nodes[i] = malloc_node_gr(i);\n",
        "\n",
        "\n",
        "    for(i=0;i<node_size;i++){\n",
        "        src=nodes[i];\n",
        "        n_edge = num_edge/2 + ((src->id)%2)*(num_edge%2); // およそ半分の枝をIdが上のものを中心に連結\n",
        "\n",
        "        for(j=0;j<n_edge;j++){\n",
        "            if(rand()/(double)RAND_MAX < p_random){\n",
        "                double r;\n",
        "                r = rand()/(double)RAND_MAX;\n",
        "                dst=nodes[(i+(int)(r*node_size)+1) % node_size];\n",
        "            }\n",
        "            else {\n",
        "                dst=nodes[(i+j+1) % node_size];\n",
        "            }\n",
        "            w=rand()%21;\n",
        "            append(src, dst, w);\n",
        "            append(dst, src, w); //無向グラフとするため、双方向に設定. 重みも設定\n",
        "        }\n",
        "    }\n",
        "\n",
        "    return nodes;\n",
        "}\n",
        "\n",
        "// 有向グラフを作成。標準入力から点の数、枝の数、ノード番号のペアのリストを受付作成。\n",
        "// [入力] なし\n",
        "// [出力] node_size個のノードアドレスを格納した配列\n",
        "Node_Gr **make_arbitrary_digraph(int *node_size_ad){\n",
        "    Node_Gr **nodes,**nodes_adr,*src, *dst;\n",
        "    int i,src_id,dst_id;\n",
        "    int node_size, edge_size;\n",
        "\n",
        "    scanf(\"%d %d\", &node_size,&edge_size);\n",
        "    *node_size_ad = node_size;\n",
        "\n",
        "    nodes = (Node_Gr**)malloc(node_size*sizeof(Node_Gr*));\n",
        "    if(nodes == NULL) {printf(\"malloc error\\n\"); exit(1);}\n",
        "\n",
        "    for(i=0;i<node_size;i++) nodes[i] = malloc_node_gr(i);\n",
        "\n",
        "    for(i=0;i<edge_size;i++){\n",
        "      scanf(\"%d %d\",&src_id,&dst_id);\n",
        "      src=nodes[src_id];\n",
        "      dst=nodes[dst_id];\n",
        "      append(src, dst, 0);//重みは0と固定\n",
        "    }\n",
        "\n",
        "    return nodes;\n",
        "}\n",
        "\n",
        "\n",
        "// 無向グラフのメモリの解放。\n",
        "// [入力] nodes: ノードのアドレスの配列、node_size: 整数型 ノードの個数\n",
        "// [出力] なし\n",
        "void delete_graph(Node_Gr** nodes, int node_size)\n",
        "{\n",
        "    int i;\n",
        "    for(i=0;i<node_size;i++) {\n",
        "        free(nodes[i]->adj);\n",
        "        free(nodes[i]->adj_weights);\n",
        "        free(nodes[i]);\n",
        "    }\n",
        "}\n",
        "\n",
        "// 無向グラフの連結情報の表示\n",
        "// [入力] nodes: ノードのアドレスの配列、node_size: 整数型 ノードの個数\n",
        "// [出力] なし\n",
        "void print_adjacency_info(Node_Gr **nodes, int node_size){\n",
        "    int i,j;\n",
        "\n",
        "    for(i=0;i<node_size;i++){\n",
        "        printf(\"%d -> \",nodes[i]->id);\n",
        "        for(j=0;j<nodes[i]->adj_size;j++)\n",
        "            printf(\"%d \",(nodes[i]->adj[j]->id));\n",
        "        printf(\"\\n\");\n",
        "    }\n",
        "}\n",
        "\n",
        "// 無向グラフを描画しpngファイルを作成する、pythonコードの生成\n",
        "// [入力] nodes: ノードのアドレスの配列、node_size: 整数型 ノードの個数\n",
        "// [出力] なし\n",
        "// [ファイル出力] graph.py\n",
        "void print_graph_info(Node_Gr **nodes, int node_size){\n",
        "    int i,j;\n",
        "    FILE *fp;\n",
        "\n",
        "    char head[]=\"from graphviz import Graph\\ng = Graph(format='png',engine='sfdp')\";\n",
        "    char tail[]=\"g.render('tmp', format='png')\";\n",
        "\n",
        "    fp=fopen(\"graph.py\",\"w\");\n",
        "    fprintf(fp,\"%s\\n\",head);\n",
        "    for(i=0;i<node_size;i++){\n",
        "        fprintf(fp,\"g.node('%d')\\n\",nodes[i]->id);\n",
        "        for(j=0;j<nodes[i]->adj_size;j++)\n",
        "            if(nodes[i]->id < nodes[i]->adj[j]->id)\n",
        "                fprintf(fp,\"g.edge('%d', '%d')\\n\",nodes[i]->id,nodes[i]->adj[j]->id);\n",
        "    }\n",
        "    fprintf(fp,\"%s\\n\",tail);\n",
        "    fclose(fp);\n",
        "}\n",
        "\n",
        "// 有向グラフを描画しpngファイルを作成する、pythonコードの生成\n",
        "// [入力] nodes: ノードのアドレスの配列、node_size: 整数型 ノードの個数\n",
        "// [出力] なし\n",
        "// [ファイル出力] graph.py\n",
        "void print_digraph_info(Node_Gr **nodes, int node_size){\n",
        "    int i,j;\n",
        "    FILE *fp;\n",
        "\n",
        "    char head[]=\"from graphviz import Digraph\\ng = Digraph(format='png',engine='dot')\";\n",
        "    char tail[]=\"g.render('tmp', format='png')\";\n",
        "\n",
        "    fp=fopen(\"graph.py\",\"w\");\n",
        "    fprintf(fp,\"%s\\n\",head);\n",
        "    for(i=0;i<node_size;i++){\n",
        "        fprintf(fp,\"g.node('%d')\\n\",nodes[i]->id);\n",
        "        for(j=0;j<nodes[i]->adj_size;j++)\n",
        "          fprintf(fp,\"g.edge('%d', '%d')\\n\",nodes[i]->id,nodes[i]->adj[j]->id);\n",
        "    }\n",
        "    fprintf(fp,\"%s\\n\",tail);\n",
        "    fclose(fp);\n",
        "}\n",
        "\n",
        "// 引数のノードから親をたどりidを表示\n",
        "// [入力] node: 終着ノードのアドレス\n",
        "// [出力] なし\n",
        "// [ファイル出力] graph.py\n",
        "void print_path(Node_Gr *node){\n",
        "    printf(\"path:\");\n",
        "    while(node->parent!=NULL){\n",
        "        printf(\"%d <-\", node->id);\n",
        "        node = node->parent;\n",
        "    }\n",
        "    printf(\"%d\\n\", node->id);\n",
        "}\n",
        "\n",
        "//---\n",
        "// 重み付き無向グラフを描画しpngファイルを作成する、pythonコードの生成\n",
        "// [入力] nodes: ノードのアドレスの配列、node_size: 整数型 ノードの個数\n",
        "// [出力] なし\n",
        "// [ファイル出力] graph.py\n",
        "void print_weighted_graph_info(Node_Gr **nodes, int node_size, int no){\n",
        "    int i,j;\n",
        "    FILE *fp;\n",
        "    char filename[20];\n",
        "\n",
        "    char head[]=\"from graphviz import Graph\\ng = Graph(format='png',engine='sfdp')\";\n",
        "    char tail[]=\"g.render('tmp', format='png')\";\n",
        "\n",
        "    sprintf(filename, \"graph_%d.py\",no);\n",
        "    fp=fopen(filename,\"w\");\n",
        "    fprintf(fp,\"%s\\n\",head);\n",
        "    for(i=0;i<node_size;i++){\n",
        "        if(nodes[i]->flag>0){\n",
        "          fprintf(fp,\"g.node(name='%d', label='%d:%d', style='filled', fillcolor='#ccddff')\\n\",nodes[i]->id,nodes[i]->id,nodes[i]->dist);\n",
        "        }\n",
        "        else{\n",
        "          fprintf(fp,\"g.node(name='%d', label='%d:%d')\\n\",nodes[i]->id,nodes[i]->id,nodes[i]->dist);\n",
        "        }\n",
        "        for(j=0;j<nodes[i]->adj_size;j++)\n",
        "            if(nodes[i]->id < nodes[i]->adj[j]->id) {\n",
        "               if((nodes[i] == nodes[i]->adj[j]->parent) || (nodes[i]->parent == nodes[i]->adj[j]))\n",
        "                  fprintf(fp,\"g.edge('%d', '%d', label='%d',penwidth='3')\\n\",nodes[i]->id,nodes[i]->adj[j]->id,nodes[i]->adj_weights[j]);\n",
        "               else\n",
        "                  fprintf(fp,\"g.edge('%d', '%d', label='%d')\\n\",nodes[i]->id,nodes[i]->adj[j]->id,nodes[i]->adj_weights[j]);\n",
        "            }\n",
        "\n",
        "    }\n",
        "    fprintf(fp,\"%s\\n\",tail);\n",
        "    fclose(fp);\n",
        "}\n"
      ]
    },
    {
      "cell_type": "markdown",
      "metadata": {
        "id": "W80b7Uyko2DW"
      },
      "source": [
        "## 深さ優先、幅優先探索、ダイクストラ法\n",
        "探索開始ノードのポインタstartを受け取り、IDがtargetのノードを探す。\n",
        "\n",
        "- 深さ優先：dfs_search(Node_Gr *start, int target, int node_size)\n",
        "- 幅優先：bfs_search(Node_Gr *start, int target, int node_size)\n",
        "- ダイクストラ：dijkstra(Node_Gr *start, Node_Gr **nodes,int node_size)\n",
        "\n"
      ]
    },
    {
      "cell_type": "code",
      "source": [
        "%%file dfsbfs.c\n",
        "#include<stdio.h>\n",
        "#include<stdlib.h>\n",
        "#include<math.h>\n",
        "#include<time.h>\n",
        "#include<limits.h>\n",
        "#include\"dfsbfs.h\"\n",
        "\n",
        "// スタックのデータ構造を使った深さ優先探索\n",
        "// start ノードからtargetが見つかるまで探索\n",
        "void dfs_search(Node_Gr *start, int target, int node_size)\n",
        "{\n",
        "    int i;\n",
        "    Stk *openlist;\n",
        "    Node_Gr *node,*child;\n",
        "\n",
        "    printf(\"DFS(%d=>%d):\\n\", start->id, target);\n",
        "\n",
        "    openlist = create_stack();            // スタック作成\n",
        "    push(openlist, start);printpush(openlist, start);  // 最初のノードをpush\n",
        "\n",
        "    start->checked=1;                   // キュー内で重複しないように記録\n",
        "    while(openlist->sp > 0){// スタック が空でないなら\n",
        "        node=pop(openlist);printpop(openlist, node);  // 探索するノードを取り出す\n",
        "\n",
        "        if(node->id == target) {          // 探索ノードの表示\n",
        "            printf(\"%d:found\\n\", node->id); break;\n",
        "        }\n",
        "\n",
        "        for(i=node->adj_size-1;i>=0;i--){  // 隣接ノードをpush\n",
        "            child = node->adj[i];\n",
        "            if(child->checked==0){       // 未探索かチェック\n",
        "                push(openlist, child);printpush(openlist, child);\n",
        "                child->parent = node;  // どのノードからpush されたか、記録\n",
        "                child->checked=1;      // キューに格納済みと記録\n",
        "            }\n",
        "        }\n",
        "    }\n",
        "\n",
        "    if(node->id == target){//見つけられた場合 pathを表示\n",
        "        printf(\"DFS:\");\n",
        "        print_path(node);\n",
        "    }\n",
        "\n",
        "    free(openlist);\n",
        "}\n",
        "\n",
        "//再帰呼び出しを使った深さ優先探索\n",
        "// start ノードからtargetが見つかるまで探索\n",
        "void dfs_search2(Node_Gr *start, int target, int node_size)\n",
        "{\n",
        "    int i;\n",
        "    Stk *openlist;\n",
        "    Node_Gr *node,*child;\n",
        "\n",
        "    printf(\"DFS(%d=>%d):\\n\", start->id, target);\n",
        "\n",
        "    node = dfs_search_rec(start, target);\n",
        "\n",
        "    if(node->id == target){//見つけられた場合 pathを表示\n",
        "        printf(\"DFS:\");\n",
        "        print_path(node);\n",
        "    }\n",
        "\n",
        "}\n",
        "\n",
        "Node_Gr *dfs_search_rec(Node_Gr *start, int target)\n",
        "{\n",
        "    int i;\n",
        "    Node_Gr *node=NULL, *child;\n",
        "    if(start == NULL) return NULL;\n",
        "    else if(start->id == target){\n",
        "        printf(\"%d:found\\n\", start->id);\n",
        "        return start;\n",
        "    }\n",
        "    else {\n",
        "      start ->checked = 1;\n",
        "      for(i=start->adj_size-1;i>=0;i--){\n",
        "          child = start->adj[i];\n",
        "          if(child->checked==0){\n",
        "              child->parent = start;\n",
        "              node = dfs_search_rec(child, target);\n",
        "          }\n",
        "          if(node != NULL) break; //見つかった場合。\n",
        "      }\n",
        "      return node;\n",
        "    }\n",
        "}\n",
        "\n",
        "\n",
        "// キューのデータ構造を使った幅優先探索\n",
        "// start ノードからtargetが見つかるまで探索\n",
        "void bfs_search(Node_Gr *start, int target, int node_size)\n",
        "{\n",
        "    int i;\n",
        "    Que *openlist;\n",
        "    Node_Gr *node,*child;\n",
        "\n",
        "    printf(\"BFS(%d=>%d):\\n\", start->id, target);\n",
        "\n",
        "    openlist = create_queue();        // キュー作成\n",
        "\n",
        "    enq(openlist, start);printenq(openlist, start);  // 最初のノードをenq\n",
        "\n",
        "    start->checked=1;               // キュー内で重複しないように記録\n",
        "    while(openlist->size > 0){// キューが空でないなら\n",
        "        node=deq(openlist);printdeq(openlist, node); // 探索するノードを取り出す\n",
        "\n",
        "        if(node->id == target) {      // 探索ノードの表示\n",
        "            printf(\"%d:found\\n\", node->id); break;\n",
        "        }\n",
        "\n",
        "        for(i=0;i< node->adj_size;i++){// 隣接ノードをenq\n",
        "            child = node->adj[i];\n",
        "            if(child->checked==0){   //未探索かチェック\n",
        "                enq(openlist,child);printenq(openlist, child);\n",
        "\n",
        "                child->parent = node;  // どのノードからenq されたか、記録\n",
        "                child->checked=1;    // idをキューに格納済みと記録\n",
        "            }\n",
        "        }\n",
        "    }\n",
        "    if(node->id == target){ //見つけられた場合 pathを表示\n",
        "        printf(\"BFS:\");\n",
        "        print_path(node);\n",
        "    }\n",
        "\n",
        "    free(openlist);\n",
        "}\n",
        "\n",
        "\n",
        "// キューのデータ構造を使った幅優先探索\n",
        "// start ノードからダイクストラ法\n",
        "void dijkstra(Node_Gr *start, Node_Gr **nodes,int node_size)\n",
        "{\n",
        "    int i,newdist,no=0;\n",
        "    Que *openlist;\n",
        "    Node_Gr *node,*child;\n",
        "\n",
        "    printf(\"Dijkstra start node: %d\\n\", start->id);\n",
        "\n",
        "    openlist = create_queue();        // キュー作成\n",
        "\n",
        "    enq(openlist, start);printenq(openlist, start);  // 最初のノードをenq\n",
        "\n",
        "    print_weighted_graph_info(nodes, node_size, no++);// グラフ作成\n",
        "\n",
        "    start->checked=1;               // キュー内で重複しないように記録\n",
        "    while(openlist->size > 0){        // キューが空でないなら\n",
        "        node = min_dist_deq(openlist); print_mindist_deq(openlist, node); // キューに入っているノード内で距離最小のノードを取り出す\n",
        "        node -> flag = 1; //nodeの最短距離が確定\n",
        "        for(i=0;i< node->adj_size;i++){// 隣接ノードをenq\n",
        "            child = node->adj[i];\n",
        "            newdist = (node->dist)+(node->adj_weights[i]);\n",
        "            if(child->dist > newdist){\n",
        "              child->dist = newdist;\n",
        "              child->parent = node;  // どのノードから距離が更新されたか、記録\n",
        "            }\n",
        "            if(child->checked==0){   //未探索かチェック\n",
        "                enq(openlist,child);printenq(openlist, child);\n",
        "                child->checked=1;    // idをキューに格納済みと記録\n",
        "            }\n",
        "        }\n",
        "      print_weighted_graph_info(nodes, node_size, no++);  // グラフ作成\n",
        "    }\n",
        "\n",
        "    free(openlist);\n",
        "}\n",
        "\n",
        "\n"
      ],
      "metadata": {
        "id": "H2b7H-tMARtJ",
        "colab": {
          "base_uri": "https://localhost:8080/"
        },
        "outputId": "3a19b044-0859-435f-a7ab-e06c80d0c771"
      },
      "execution_count": 72,
      "outputs": [
        {
          "output_type": "stream",
          "name": "stdout",
          "text": [
            "Overwriting dfsbfs.c\n"
          ]
        }
      ]
    },
    {
      "cell_type": "markdown",
      "metadata": {
        "id": "rXlDKjBaxtuS"
      },
      "source": [
        "# 課題１−２ DAGとトポロジカルソート\n"
      ]
    },
    {
      "cell_type": "markdown",
      "source": [
        "タスクの依存関係などを有向グラフで記述することができる。巡回路がない有向グラフをDAGといい、タスクの依存関係もDAGになる。\n",
        "\n",
        "深さ優先探索の帰りがけ順でノードを並べると、タスクの依存関係を守ったタスクの処理順を計算することができる。"
      ],
      "metadata": {
        "id": "fbP6efjZE9RT"
      }
    },
    {
      "cell_type": "markdown",
      "source": [
        "## 課題コード"
      ],
      "metadata": {
        "id": "mpbHo9a7RbWI"
      }
    },
    {
      "cell_type": "code",
      "source": [
        "%%file topologicalsort.c\n",
        "#include<stdio.h>\n",
        "#include<stdlib.h>\n",
        "#include<math.h>\n",
        "#include<time.h>\n",
        "#include\"dfsbfs.h\"\n",
        "\n",
        "\n",
        "void topological_sort_rec(Node_Gr *node)\n",
        "{\n",
        "    int i;\n",
        "    Node_Gr *child;              // 子供を格納する変数\n",
        "    node->checked=1;             // nodeはここでアクセス済みとなった。\n",
        "\n",
        "    for (i = 0; i < node->adj_size; i++) {\n",
        "        child = node->adj[i];\n",
        "        if (child->checked == 0) {\n",
        "            topological_sort_rec(child);\n",
        "        }\n",
        "    }\n",
        "\n",
        "    printf(\" <- %d\", node->id);  // 帰りがけ順に出力\n",
        "}\n",
        "\n",
        "void topological_sort(Node_Gr **nodes, int node_size)\n",
        "{\n",
        "    int i;\n",
        "    Node_Gr *start, *node,*child;\n",
        "\n",
        "    for(i=0;i<node_size;i++) nodes[i]->checked=0;// 最初に0として初期化\n",
        "\n",
        "    printf(\"[End]\"); // 最初に終端マークを表示しとく\n",
        "    while(1){\n",
        "      for(i=0;i<node_size;i++) { //全てチェックされるまで繰り返す。\n",
        "        if(nodes[i]->checked==0) break;\n",
        "      }\n",
        "      if(i>=node_size) break; //全てのノードがチェックされた。\n",
        "      topological_sort_rec(nodes[i]);\n",
        "    }\n",
        "\n",
        "}\n",
        "\n"
      ],
      "metadata": {
        "id": "oO5drxKh89-J",
        "colab": {
          "base_uri": "https://localhost:8080/"
        },
        "outputId": "227f7cfa-2abd-49ee-95ae-1f806b11ee1c"
      },
      "execution_count": 73,
      "outputs": [
        {
          "output_type": "stream",
          "name": "stdout",
          "text": [
            "Overwriting topologicalsort.c\n"
          ]
        }
      ]
    },
    {
      "cell_type": "markdown",
      "source": [
        "### main 関数"
      ],
      "metadata": {
        "id": "izyaA3uxkuP4"
      }
    },
    {
      "cell_type": "code",
      "execution_count": 74,
      "metadata": {
        "id": "vjWaUhMmyJ31",
        "colab": {
          "base_uri": "https://localhost:8080/"
        },
        "outputId": "b2031490-8ccf-4752-de4b-d03135c43547"
      },
      "outputs": [
        {
          "output_type": "stream",
          "name": "stdout",
          "text": [
            "Overwriting digraphmain.c\n"
          ]
        }
      ],
      "source": [
        "%%file digraphmain.c\n",
        "#include<stdio.h>\n",
        "#include<stdlib.h>\n",
        "#include\"dfsbfs.h\"\n",
        "\n",
        "int main()\n",
        "{\n",
        "    Node_Gr **nodes;\n",
        "    Node_Gr *start;\n",
        "    int node_size, num_edge;\n",
        "    int i,target;\n",
        "\n",
        "    nodes = make_arbitrary_digraph(&node_size); //入力データからグラフ作成\n",
        "    print_adjacency_info(nodes, node_size);     // 隣接情報を表示\n",
        "    print_digraph_info(nodes, node_size);       // pythonコードを出力\n",
        "\n",
        "    topological_sort(nodes, node_size);         // トポロジカルソート\n",
        "\n",
        "    delete_graph(nodes, node_size);             // グラフの削除\n",
        "    return(0);\n",
        "}"
      ]
    },
    {
      "cell_type": "markdown",
      "source": [
        "## 実行結果 確認"
      ],
      "metadata": {
        "id": "Q0xBSPxBkP-1"
      }
    },
    {
      "cell_type": "markdown",
      "source": [
        "### DAG 1"
      ],
      "metadata": {
        "id": "hqO3fNLAkN1d"
      }
    },
    {
      "cell_type": "code",
      "execution_count": 75,
      "metadata": {
        "id": "0O2QqO4Y2MfR",
        "colab": {
          "base_uri": "https://localhost:8080/"
        },
        "outputId": "e6b30577-97b3-4f4f-838f-ddc3a4bdb5ca"
      },
      "outputs": [
        {
          "output_type": "stream",
          "name": "stdout",
          "text": [
            "Overwriting graph.txt\n"
          ]
        }
      ],
      "source": [
        "%%file graph.txt\n",
        "8 9\n",
        "0 1\n",
        "0 2\n",
        "1 2\n",
        "3 5\n",
        "4 6\n",
        "7 2\n",
        "5 6\n",
        "0 5\n",
        "7 1"
      ]
    },
    {
      "cell_type": "code",
      "execution_count": 76,
      "metadata": {
        "id": "NyTBcA7czom0",
        "colab": {
          "base_uri": "https://localhost:8080/",
          "height": 436
        },
        "outputId": "cc6f3852-282b-45d6-f58e-52f86cdb8224"
      },
      "outputs": [
        {
          "output_type": "stream",
          "name": "stdout",
          "text": [
            "0 -> 1 2 5 \n",
            "1 -> 2 \n",
            "2 -> \n",
            "3 -> 5 \n",
            "4 -> 6 \n",
            "5 -> 6 \n",
            "6 -> \n",
            "7 -> 2 1 \n",
            "[End] <- 2 <- 1 <- 6 <- 5 <- 0 <- 3 <- 4 <- 7"
          ]
        },
        {
          "output_type": "display_data",
          "data": {
            "image/png": "[encoded data removed]",
            "text/plain": [
              "<IPython.core.display.Image object>"
            ]
          },
          "metadata": {}
        }
      ],
      "source": [
        "!gcc topologicalsort.c digraphmain.c dfsbfs.c graphsub.c stkque.c -o digraph\n",
        "!cat ./graph.txt | ./digraph\n",
        "#tmp.pngにグラフを作成\n",
        "!python graph.py\n",
        "#tmp.pngを表示\n",
        "import IPython\n",
        "IPython.display.display(IPython.display.Image('tmp.png'))"
      ]
    },
    {
      "cell_type": "markdown",
      "source": [
        "### DAG 2"
      ],
      "metadata": {
        "id": "y253F2eeTQhT"
      }
    },
    {
      "cell_type": "code",
      "source": [
        "%%file graph2.txt\n",
        "5 5\n",
        "0 1\n",
        "0 2\n",
        "1 3\n",
        "4 1\n",
        "2 4"
      ],
      "metadata": {
        "id": "ctHlGYfpsRVu",
        "colab": {
          "base_uri": "https://localhost:8080/"
        },
        "outputId": "f5b8df5c-b39c-4a18-a481-3d757d09f3c7"
      },
      "execution_count": 77,
      "outputs": [
        {
          "output_type": "stream",
          "name": "stdout",
          "text": [
            "Overwriting graph2.txt\n"
          ]
        }
      ]
    },
    {
      "cell_type": "code",
      "source": [
        "!cat ./graph2.txt | ./digraph\n",
        "#tmp.pngにグラフを作成\n",
        "!python graph.py\n",
        "#tmp.pngを表示\n",
        "import IPython\n",
        "IPython.display.display(IPython.display.Image('tmp.png'))"
      ],
      "metadata": {
        "id": "XJWgQGz9szta",
        "colab": {
          "base_uri": "https://localhost:8080/",
          "height": 572
        },
        "outputId": "9d9386bf-9c1a-454c-dc83-ed87c1cb6359"
      },
      "execution_count": 78,
      "outputs": [
        {
          "output_type": "stream",
          "name": "stdout",
          "text": [
            "0 -> 1 2 \n",
            "1 -> 3 \n",
            "2 -> 4 \n",
            "3 -> \n",
            "4 -> 1 \n",
            "[End] <- 3 <- 1 <- 4 <- 2 <- 0"
          ]
        },
        {
          "output_type": "display_data",
          "data": {
            "image/png": "[encoded data removed]",
            "text/plain": [
              "<IPython.core.display.Image object>"
            ]
          },
          "metadata": {}
        }
      ]
    },
    {
      "cell_type": "markdown",
      "source": [
        "### DAG 3"
      ],
      "metadata": {
        "id": "FPIPX9FaTYL-"
      }
    },
    {
      "cell_type": "code",
      "source": [
        "%%file graph3.txt\n",
        "8 9\n",
        "0 1\n",
        "0 2\n",
        "1 3\n",
        "1 4\n",
        "2 4\n",
        "3 4\n",
        "5 1\n",
        "6 2\n",
        "2 7"
      ],
      "metadata": {
        "id": "uR4LwD_8uzaV",
        "colab": {
          "base_uri": "https://localhost:8080/"
        },
        "outputId": "58393c79-735f-49a1-aecf-d13442bb0b39"
      },
      "execution_count": 79,
      "outputs": [
        {
          "output_type": "stream",
          "name": "stdout",
          "text": [
            "Overwriting graph3.txt\n"
          ]
        }
      ]
    },
    {
      "cell_type": "code",
      "source": [
        "!cat ./graph3.txt | ./digraph\n",
        "#tmp.pngにグラフを作成\n",
        "!python graph.py\n",
        "#tmp.pngを表示\n",
        "import IPython\n",
        "IPython.display.display(IPython.display.Image('tmp.png'))"
      ],
      "metadata": {
        "id": "gFU1PPv0vAZW",
        "colab": {
          "base_uri": "https://localhost:8080/",
          "height": 532
        },
        "outputId": "5becff3c-6c67-47e4-c596-6442f9a66d8f"
      },
      "execution_count": 80,
      "outputs": [
        {
          "output_type": "stream",
          "name": "stdout",
          "text": [
            "0 -> 1 2 \n",
            "1 -> 3 4 \n",
            "2 -> 4 7 \n",
            "3 -> 4 \n",
            "4 -> \n",
            "5 -> 1 \n",
            "6 -> 2 \n",
            "7 -> \n",
            "[End] <- 4 <- 3 <- 1 <- 7 <- 2 <- 0 <- 5 <- 6"
          ]
        },
        {
          "output_type": "display_data",
          "data": {
            "image/png": "[encoded data removed]",
            "text/plain": [
              "<IPython.core.display.Image object>"
            ]
          },
          "metadata": {}
        }
      ]
    },
    {
      "cell_type": "markdown",
      "source": [
        "# 発展課題  DAGの検出機能つきトポロジカルソート"
      ],
      "metadata": {
        "id": "4NG-YicMfb0s"
      }
    },
    {
      "cell_type": "markdown",
      "source": [
        "課題1-2のトポロジカルソートのコードにDAGの検出機能を追加せよ\n",
        "\n",
        "課題コードの中の、topological_sort_rec_isDAG関数を作成すれば良い。\n",
        "DAGなら1、そうでないなら0を返す関数になっている。"
      ],
      "metadata": {
        "id": "h_sWMDIhfnmc"
      }
    },
    {
      "cell_type": "markdown",
      "source": [
        "## 課題コード"
      ],
      "metadata": {
        "id": "vfPP5horf4St"
      }
    },
    {
      "cell_type": "code",
      "source": [
        "%%file topologicalsort_isDAG.c\n",
        "#include<stdio.h>\n",
        "#include<stdlib.h>\n",
        "#include<math.h>\n",
        "#include<time.h>\n",
        "#include\"dfsbfs.h\"\n",
        "\n",
        "#define NOT_CHECKED 0   /* まだ訪問していないノード */\n",
        "#define CHECKED 1       /* 訪問済(チェックは終わった)ノード */\n",
        "#define ACTIVE  2       /* チェック中のノード */\n",
        "\n",
        "int topological_sort_rec_isDAG(Node_Gr *node)\n",
        "{\n",
        "    int i;\n",
        "    int is_dag = 1;\n",
        "    Node_Gr *child;              // 子供を格納する変数\n",
        "    node->checked=ACTIVE;        // nodeはここでACTIVEとなった。\n",
        "\n",
        "      for (i = 0; i < node->adj_size; i++) {\n",
        "        child = node->adj[i];\n",
        "        if (child->checked == ACTIVE) {\n",
        "            return 0;\n",
        "        }\n",
        "        if (child->checked == NOT_CHECKED) {\n",
        "            is_dag = topological_sort_rec_isDAG(child);\n",
        "            if (is_dag == 0) return 0;\n",
        "        }\n",
        "    }\n",
        "\n",
        "    node->checked = CHECKED;  // チェック完了\n",
        "\n",
        "    printf(\" <- %d\", node->id);  // 帰りがけ順に出力\n",
        "    return is_dag;\n",
        "}\n",
        "\n",
        "void topological_sort(Node_Gr **nodes, int node_size)\n",
        "{\n",
        "    int i;\n",
        "    Node_Gr *start, *node,*child;\n",
        "    int is_dag;\n",
        "\n",
        "    for(i=0;i<node_size;i++) nodes[i]->checked=NOT_CHECKED;// 最初に0として初期化\n",
        "\n",
        "    printf(\"[End]\"); // 最初に終端マークを表示しとく\n",
        "    while(1){\n",
        "      for(i=0;i<node_size;i++) { //全てチェックされるまで繰り返す。\n",
        "        if(nodes[i]->checked==NOT_CHECKED) break;\n",
        "      }\n",
        "      if(i>=node_size) break; //全てのノードがチェックされた。\n",
        "      is_dag = topological_sort_rec_isDAG(nodes[i]);\n",
        "      if (is_dag == 0)\n",
        "          break;\n",
        "    }\n",
        "    if (is_dag) {\n",
        "        printf(\"\\nis DAG\\n\");\n",
        "    } else {\n",
        "        printf(\"\\nis not DAG\\n\");\n",
        "    }\n",
        "}"
      ],
      "metadata": {
        "id": "ckVIxGj1f6kA",
        "colab": {
          "base_uri": "https://localhost:8080/"
        },
        "outputId": "16545dc7-eef0-44c4-a106-9822886d3c4f"
      },
      "execution_count": 81,
      "outputs": [
        {
          "output_type": "stream",
          "name": "stdout",
          "text": [
            "Overwriting topologicalsort_isDAG.c\n"
          ]
        }
      ]
    },
    {
      "cell_type": "markdown",
      "source": [
        "### main 関数"
      ],
      "metadata": {
        "id": "cw4FhyEjx8p5"
      }
    },
    {
      "cell_type": "code",
      "execution_count": 82,
      "metadata": {
        "id": "W84DJG1yx8p5",
        "colab": {
          "base_uri": "https://localhost:8080/"
        },
        "outputId": "9e59478c-7039-44e8-af7b-e1a92c27e72b"
      },
      "outputs": [
        {
          "output_type": "stream",
          "name": "stdout",
          "text": [
            "Overwriting digraphmain.c\n"
          ]
        }
      ],
      "source": [
        "%%file digraphmain.c\n",
        "#include<stdio.h>\n",
        "#include<stdlib.h>\n",
        "#include\"dfsbfs.h\"\n",
        "\n",
        "int main()\n",
        "{\n",
        "    Node_Gr **nodes;\n",
        "    Node_Gr *start;\n",
        "    int node_size, num_edge;\n",
        "    int i,target;\n",
        "\n",
        "    nodes = make_arbitrary_digraph(&node_size); //入力データからグラフ作成\n",
        "    print_adjacency_info(nodes, node_size);     // 隣接情報を表示\n",
        "    print_digraph_info(nodes, node_size);       // pythonコードを出力\n",
        "\n",
        "    topological_sort(nodes, node_size);         // トポロジカルソート\n",
        "\n",
        "    delete_graph(nodes, node_size);             // グラフの削除\n",
        "    return(0);\n",
        "}"
      ]
    },
    {
      "cell_type": "markdown",
      "source": [
        "## 実行結果 確認"
      ],
      "metadata": {
        "id": "RU2j6dgJho2D"
      }
    },
    {
      "cell_type": "markdown",
      "source": [
        "### DAG 1"
      ],
      "metadata": {
        "id": "YEOK9ME5ho2F"
      }
    },
    {
      "cell_type": "code",
      "execution_count": 83,
      "metadata": {
        "id": "FgMb-84Mho2G",
        "colab": {
          "base_uri": "https://localhost:8080/"
        },
        "outputId": "beaf98c3-9e32-4bca-9779-becd92a2ed46"
      },
      "outputs": [
        {
          "output_type": "stream",
          "name": "stdout",
          "text": [
            "Overwriting graph.txt\n"
          ]
        }
      ],
      "source": [
        "%%file graph.txt\n",
        "8 9\n",
        "0 1\n",
        "0 2\n",
        "1 2\n",
        "3 5\n",
        "4 6\n",
        "7 2\n",
        "5 6\n",
        "0 5\n",
        "7 1"
      ]
    },
    {
      "cell_type": "code",
      "execution_count": 84,
      "metadata": {
        "id": "WvAki38dho2H",
        "colab": {
          "base_uri": "https://localhost:8080/",
          "height": 455
        },
        "outputId": "edcaba22-c898-466d-8081-456524ac458b"
      },
      "outputs": [
        {
          "output_type": "stream",
          "name": "stdout",
          "text": [
            "0 -> 1 2 5 \n",
            "1 -> 2 \n",
            "2 -> \n",
            "3 -> 5 \n",
            "4 -> 6 \n",
            "5 -> 6 \n",
            "6 -> \n",
            "7 -> 2 1 \n",
            "[End] <- 2 <- 1 <- 6 <- 5 <- 0 <- 3 <- 4 <- 7\n",
            "is DAG\n"
          ]
        },
        {
          "output_type": "display_data",
          "data": {
            "image/png": "[encoded data removed]",
            "text/plain": [
              "<IPython.core.display.Image object>"
            ]
          },
          "metadata": {}
        }
      ],
      "source": [
        "!gcc topologicalsort_isDAG.c digraphmain.c dfsbfs.c graphsub.c stkque.c -o digraph\n",
        "!cat ./graph.txt | ./digraph\n",
        "#tmp.pngにグラフを作成\n",
        "!python graph.py\n",
        "#tmp.pngを表示\n",
        "import IPython\n",
        "IPython.display.display(IPython.display.Image('tmp.png'))"
      ]
    },
    {
      "cell_type": "markdown",
      "source": [
        "### DAG 2"
      ],
      "metadata": {
        "id": "w6w-keKjho2I"
      }
    },
    {
      "cell_type": "code",
      "source": [
        "%%file graph2.txt\n",
        "5 5\n",
        "0 1\n",
        "0 2\n",
        "1 3\n",
        "4 1\n",
        "2 4"
      ],
      "metadata": {
        "id": "gDuqvd2oho2I",
        "colab": {
          "base_uri": "https://localhost:8080/"
        },
        "outputId": "017684c8-e9b1-4afe-b010-976490e0fdd6"
      },
      "execution_count": 85,
      "outputs": [
        {
          "output_type": "stream",
          "name": "stdout",
          "text": [
            "Overwriting graph2.txt\n"
          ]
        }
      ]
    },
    {
      "cell_type": "code",
      "source": [
        "!cat ./graph2.txt | ./digraph\n",
        "#tmp.pngにグラフを作成\n",
        "!python graph.py\n",
        "#tmp.pngを表示\n",
        "import IPython\n",
        "IPython.display.display(IPython.display.Image('tmp.png'))"
      ],
      "metadata": {
        "id": "i6tN53eaho2I",
        "colab": {
          "base_uri": "https://localhost:8080/",
          "height": 0
        },
        "outputId": "d6603ebb-add5-4c70-e010-ad1ee3efa43b"
      },
      "execution_count": 86,
      "outputs": [
        {
          "output_type": "stream",
          "name": "stdout",
          "text": [
            "0 -> 1 2 \n",
            "1 -> 3 \n",
            "2 -> 4 \n",
            "3 -> \n",
            "4 -> 1 \n",
            "[End] <- 3 <- 1 <- 4 <- 2 <- 0\n",
            "is DAG\n"
          ]
        },
        {
          "output_type": "display_data",
          "data": {
            "image/png": "[encoded data removed]",
            "text/plain": [
              "<IPython.core.display.Image object>"
            ]
          },
          "metadata": {}
        }
      ]
    },
    {
      "cell_type": "markdown",
      "source": [
        "### DAG 3"
      ],
      "metadata": {
        "id": "K9jCggpUho2J"
      }
    },
    {
      "cell_type": "code",
      "source": [
        "%%file graph3.txt\n",
        "8 9\n",
        "0 1\n",
        "0 2\n",
        "1 3\n",
        "1 4\n",
        "2 4\n",
        "3 4\n",
        "5 1\n",
        "6 2\n",
        "2 7"
      ],
      "metadata": {
        "id": "8gsiqm16ho2J",
        "colab": {
          "base_uri": "https://localhost:8080/"
        },
        "outputId": "26bdad8a-f180-4021-a5f3-af29ab5777a4"
      },
      "execution_count": 87,
      "outputs": [
        {
          "output_type": "stream",
          "name": "stdout",
          "text": [
            "Overwriting graph3.txt\n"
          ]
        }
      ]
    },
    {
      "cell_type": "code",
      "source": [
        "!cat ./graph3.txt | ./digraph\n",
        "#tmp.pngにグラフを作成\n",
        "!python graph.py\n",
        "#tmp.pngを表示\n",
        "import IPython\n",
        "IPython.display.display(IPython.display.Image('tmp.png'))"
      ],
      "metadata": {
        "id": "MG-PinwDho2J",
        "colab": {
          "base_uri": "https://localhost:8080/",
          "height": 551
        },
        "outputId": "64392631-3359-4a7c-dc51-3c9874c31186"
      },
      "execution_count": 88,
      "outputs": [
        {
          "output_type": "stream",
          "name": "stdout",
          "text": [
            "0 -> 1 2 \n",
            "1 -> 3 4 \n",
            "2 -> 4 7 \n",
            "3 -> 4 \n",
            "4 -> \n",
            "5 -> 1 \n",
            "6 -> 2 \n",
            "7 -> \n",
            "[End] <- 4 <- 3 <- 1 <- 7 <- 2 <- 0 <- 5 <- 6\n",
            "is DAG\n"
          ]
        },
        {
          "output_type": "display_data",
          "data": {
            "image/png": "[encoded data removed]",
            "text/plain": [
              "<IPython.core.display.Image object>"
            ]
          },
          "metadata": {}
        }
      ]
    },
    {
      "cell_type": "markdown",
      "source": [
        "### DAG でない例"
      ],
      "metadata": {
        "id": "z2_ysfVci6z3"
      }
    },
    {
      "cell_type": "code",
      "source": [
        "%%file graph4.txt\n",
        "5 6\n",
        "0 1\n",
        "0 2\n",
        "1 3\n",
        "4 1\n",
        "2 4\n",
        "3 4"
      ],
      "metadata": {
        "id": "odWjBo89i6z4",
        "colab": {
          "base_uri": "https://localhost:8080/"
        },
        "outputId": "b3c52de7-64ca-4406-d5ff-a4d43abba6d7"
      },
      "execution_count": 89,
      "outputs": [
        {
          "output_type": "stream",
          "name": "stdout",
          "text": [
            "Overwriting graph4.txt\n"
          ]
        }
      ]
    },
    {
      "cell_type": "code",
      "source": [
        "!cat ./graph4.txt | ./digraph\n",
        "#tmp.pngにグラフを作成\n",
        "!python graph.py\n",
        "#tmp.pngを表示\n",
        "import IPython\n",
        "IPython.display.display(IPython.display.Image('tmp.png'))"
      ],
      "metadata": {
        "id": "CpoF31X7i6z5",
        "colab": {
          "base_uri": "https://localhost:8080/",
          "height": 495
        },
        "outputId": "e0a29d97-d511-4ce0-dd5c-8307f2bc98e9"
      },
      "execution_count": 90,
      "outputs": [
        {
          "output_type": "stream",
          "name": "stdout",
          "text": [
            "0 -> 1 2 \n",
            "1 -> 3 \n",
            "2 -> 4 \n",
            "3 -> 4 \n",
            "4 -> 1 \n",
            "[End]\n",
            "is not DAG\n"
          ]
        },
        {
          "output_type": "display_data",
          "data": {
            "image/png": "[encoded data removed]",
            "text/plain": [
              "<IPython.core.display.Image object>"
            ]
          },
          "metadata": {}
        }
      ]
    }
  ],
  "metadata": {
    "colab": {
      "provenance": [],
      "collapsed_sections": [
        "zv73VDZ0S4FN",
        "SQOjAG3uroXP",
        "I3H1J_MWYs5l",
        "l9hKeppNcPWw",
        "rXlDKjBaxtuS",
        "mpbHo9a7RbWI",
        "izyaA3uxkuP4",
        "Q0xBSPxBkP-1",
        "4NG-YicMfb0s",
        "vfPP5horf4St",
        "cw4FhyEjx8p5",
        "RU2j6dgJho2D",
        "YEOK9ME5ho2F",
        "w6w-keKjho2I",
        "K9jCggpUho2J",
        "z2_ysfVci6z3"
      ],
      "include_colab_link": true
    },
    "kernelspec": {
      "display_name": "Python 3",
      "name": "python3"
    },
    "language_info": {
      "name": "python"
    }
  },
  "nbformat": 4,
  "nbformat_minor": 0
}